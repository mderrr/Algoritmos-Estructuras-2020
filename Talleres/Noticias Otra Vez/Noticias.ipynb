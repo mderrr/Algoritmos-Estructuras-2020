{
  "nbformat": 4,
  "nbformat_minor": 0,
  "metadata": {
    "colab": {
      "name": "Noticias.ipynb",
      "provenance": [],
      "collapsed_sections": []
    },
    "kernelspec": {
      "name": "python3",
      "display_name": "Python 3"
    }
  },
  "cells": [
    {
      "cell_type": "code",
      "metadata": {
        "id": "QG79-PwarxHM",
        "colab_type": "code",
        "colab": {}
      },
      "source": [
        "import requests\n",
        "import bs4\n",
        "\n",
        "url = \"https://www.minuto30.com/\"\n",
        "\n",
        "response = requests.get(url)\n",
        "\n",
        "soup = bs4.BeautifulSoup(response.text, 'html.parser')\n",
        "news = soup.select('.medellinhome a')\n",
        "\n",
        "noticias = []\n",
        "links=[]\n",
        "\n",
        "for item in news:\n",
        "\n",
        "    if item.text == \"\":\n",
        "      noticias.append(\"Sin Titulo\")\n",
        "    else:\n",
        "      noticias.append(item.text)\n",
        "      \n",
        "    links.append(item.get(\"href\"))\n",
        "\n",
        "dictNoticias = {}\n",
        "dictNoticias['Noticias']= noticias\n",
        "dictNoticias['links']= links"
      ],
      "execution_count": 15,
      "outputs": []
    },
    {
      "cell_type": "code",
      "metadata": {
        "id": "iM7BuyQyXrys",
        "colab_type": "code",
        "colab": {}
      },
      "source": [
        "import pandas as pd \n",
        "noticiasMin30 = pd.DataFrame(dictNoticias)\n",
        "noticiasMin30\n",
        "\n",
        "noticiasMin30.to_csv('noticiasMin30.csv', index=False)"
      ],
      "execution_count": 16,
      "outputs": []
    }
  ]
}