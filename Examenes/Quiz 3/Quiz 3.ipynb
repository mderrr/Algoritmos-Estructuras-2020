{
  "nbformat": 4,
  "nbformat_minor": 0,
  "metadata": {
    "colab": {
      "name": "Untitled10.ipynb",
      "provenance": [],
      "collapsed_sections": []
    },
    "kernelspec": {
      "name": "python3",
      "display_name": "Python 3"
    }
  },
  "cells": [
    {
      "cell_type": "markdown",
      "metadata": {
        "id": "M7bD1PoqGQfg"
      },
      "source": [
        "Punto 1"
      ]
    },
    {
      "cell_type": "code",
      "metadata": {
        "id": "FaXSYmL9CDxm"
      },
      "source": [
        "import sklearn\n",
        "from sklearn.datasets import load_iris\n",
        "from sklearn.model_selection import train_test_split\n",
        "iris=load_iris()\n",
        "\n",
        "datosEntrenamiento, datosPrueba,respuestasEntrenamiento,respuestaPrueba=train_test_split(iris['data'],iris['target'])"
      ],
      "execution_count": 4,
      "outputs": []
    },
    {
      "cell_type": "code",
      "metadata": {
        "id": "IcwKbeODFLn9",
        "outputId": "d668f8aa-2386-4549-ef99-159a8a6a29f9",
        "colab": {
          "base_uri": "https://localhost:8080/",
          "height": 34
        }
      },
      "source": [
        "from sklearn.neighbors import KNeighborsClassifier\n",
        "knn4=KNeighborsClassifier(n_neighbors=4)\n",
        "knn4.fit(datosEntrenamiento,respuestasEntrenamiento)\n",
        "\n",
        "KNNscore4=knn4.score(datosPrueba,respuestaPrueba)*100\n",
        "print(KNNscore4)"
      ],
      "execution_count": 18,
      "outputs": [
        {
          "output_type": "stream",
          "text": [
            "42.10526315789473\n"
          ],
          "name": "stdout"
        }
      ]
    },
    {
      "cell_type": "code",
      "metadata": {
        "id": "Rl0-MnPXFjM0",
        "outputId": "a25af559-0376-423e-e525-609adb08af1b",
        "colab": {
          "base_uri": "https://localhost:8080/",
          "height": 34
        }
      },
      "source": [
        "from sklearn.neighbors import KNeighborsClassifier\n",
        "knn8=KNeighborsClassifier(n_neighbors=8)\n",
        "knn8.fit(datosEntrenamiento,respuestasEntrenamiento)\n",
        "\n",
        "KNNscore8=knn8.score(datosPrueba,respuestaPrueba)*100\n",
        "print(KNNscore8)"
      ],
      "execution_count": 19,
      "outputs": [
        {
          "output_type": "stream",
          "text": [
            "42.10526315789473\n"
          ],
          "name": "stdout"
        }
      ]
    },
    {
      "cell_type": "code",
      "metadata": {
        "id": "svPyibZiFumJ",
        "outputId": "99e74d22-eb73-4238-ebe5-b74b31e0a432",
        "colab": {
          "base_uri": "https://localhost:8080/",
          "height": 34
        }
      },
      "source": [
        "from sklearn.neighbors import KNeighborsClassifier\n",
        "knn12=KNeighborsClassifier(n_neighbors=12)\n",
        "knn12.fit(datosEntrenamiento,respuestasEntrenamiento)\n",
        "\n",
        "KNNscore12=knn12.score(datosPrueba,respuestaPrueba)*100\n",
        "print(KNNscore12)"
      ],
      "execution_count": 21,
      "outputs": [
        {
          "output_type": "stream",
          "text": [
            "39.473684210526315\n"
          ],
          "name": "stdout"
        }
      ]
    },
    {
      "cell_type": "code",
      "metadata": {
        "id": "rsPnKTe4F94Q",
        "outputId": "73eaff06-4721-4032-e141-b84500dcdafe",
        "colab": {
          "base_uri": "https://localhost:8080/",
          "height": 34
        }
      },
      "source": [
        "from sklearn.neighbors import KNeighborsClassifier\n",
        "knn16=KNeighborsClassifier(n_neighbors=16)\n",
        "knn16.fit(datosEntrenamiento,respuestasEntrenamiento)\n",
        "\n",
        "KNNscore16=knn16.score(datosPrueba,respuestaPrueba)*100\n",
        "print(KNNscore16)"
      ],
      "execution_count": 22,
      "outputs": [
        {
          "output_type": "stream",
          "text": [
            "42.10526315789473\n"
          ],
          "name": "stdout"
        }
      ]
    },
    {
      "cell_type": "markdown",
      "metadata": {
        "id": "is_Wa9tvGTQt"
      },
      "source": [
        "Punto 2"
      ]
    },
    {
      "cell_type": "code",
      "metadata": {
        "id": "qa6ia2rMGZ0y",
        "outputId": "8e45ad17-7f9e-4c36-ada9-930b62415c2c",
        "colab": {
          "base_uri": "https://localhost:8080/",
          "height": 34
        }
      },
      "source": [
        "from sklearn.datasets import load_iris \n",
        "from sklearn.model_selection import train_test_split \n",
        "from sklearn.tree import  DecisionTreeClassifier \n",
        "\n",
        "iris = load_iris()\n",
        "\n",
        "datosEntrenamiento, datosPrueba, respuestasEntrenamiento, respuestasPrueba=train_test_split(iris['data'],iris['target'])\n",
        "\n",
        "decisionTree = DecisionTreeClassifier(max_depth = 3)\n",
        "decisionTree.fit(datosEntrenamiento, respuestasEntrenamiento)\n",
        "DTscore = decisionTree.score(datosPrueba, respuestasPrueba) * 100\n",
        "\n",
        "print(\"{}%\".format(DTscore))"
      ],
      "execution_count": 9,
      "outputs": [
        {
          "output_type": "stream",
          "text": [
            "89.47368421052632%\n"
          ],
          "name": "stdout"
        }
      ]
    },
    {
      "cell_type": "markdown",
      "metadata": {
        "id": "rJ3NLs2wGpHV"
      },
      "source": [
        "Punto 3"
      ]
    },
    {
      "cell_type": "code",
      "metadata": {
        "id": "ILkLEo5SGqhI",
        "outputId": "8c3d17f6-6a9d-4d48-8189-9430f6b29838",
        "colab": {
          "base_uri": "https://localhost:8080/",
          "height": 34
        }
      },
      "source": [
        "from sklearn.neural_network import  MLPClassifier\n",
        "\n",
        "maxIterations = 3000\n",
        "hiddenLayers = [25, 82, 30]\n",
        "\n",
        "neuralNetwork = MLPClassifier(max_iter = maxIterations , hidden_layer_sizes = hiddenLayers)\n",
        "neuralNetwork.fit(datosEntrenamiento, respuestasEntrenamiento)\n",
        "NNscore = neuralNetwork.score(datosPrueba, respuestasPrueba) * 100\n",
        "\n",
        "print(\"{}%\".format(NNscore))"
      ],
      "execution_count": 10,
      "outputs": [
        {
          "output_type": "stream",
          "text": [
            "92.10526315789474%\n"
          ],
          "name": "stdout"
        }
      ]
    },
    {
      "cell_type": "code",
      "metadata": {
        "id": "zKsA4jCHGtjq"
      },
      "source": [
        "punto 4."
      ],
      "execution_count": null,
      "outputs": []
    },
    {
      "cell_type": "code",
      "metadata": {
        "id": "Zy8fTHT6HERA",
        "outputId": "669f9622-671e-4eed-98aa-964d0f7c0ec4",
        "colab": {
          "base_uri": "https://localhost:8080/",
          "height": 265
        }
      },
      "source": [
        "import matplotlib.pyplot as plt\n",
        "plt.bar (['Knn', 'arbol', 'Red neural', 'GNB'], [KNNscore,DTscore,NNscore,GNBscore])\n",
        "plt.show()\n"
      ],
      "execution_count": 24,
      "outputs": [
        {
          "output_type": "display_data",
          "data": {
            "image/png": "[encoded data removed]",
            "text/plain": [
              "<Figure size 432x288 with 1 Axes>"
            ]
          },
          "metadata": {
            "tags": [],
            "needs_background": "light"
          }
        }
      ]
    },
    {
      "cell_type": "markdown",
      "metadata": {
        "id": "BYjODJn1GvM2"
      },
      "source": [
        "Punto 5."
      ]
    },
    {
      "cell_type": "code",
      "metadata": {
        "id": "S3ZKHqHiGzR7",
        "outputId": "dc981300-fd60-45cc-d0c2-90406654d4ee",
        "colab": {
          "base_uri": "https://localhost:8080/",
          "height": 34
        }
      },
      "source": [
        "from sklearn.naive_bayes import GaussianNB\n",
        "\n",
        "gnb = GaussianNB()\n",
        "gnb.fit(datosEntrenamiento, respuestasEntrenamiento)\n",
        "GNBscore = gnb.score(datosPrueba, respuestasPrueba) * 100\n",
        "\n",
        "print(\"{}%\".format(GNBscore))"
      ],
      "execution_count": 11,
      "outputs": [
        {
          "output_type": "stream",
          "text": [
            "97.36842105263158%\n"
          ],
          "name": "stdout"
        }
      ]
    }
  ]
}