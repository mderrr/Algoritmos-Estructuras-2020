{
  "nbformat": 4,
  "nbformat_minor": 0,
  "metadata": {
    "colab": {
      "name": "Quiz_2.ipynb",
      "provenance": [],
      "collapsed_sections": []
    },
    "kernelspec": {
      "name": "python3",
      "display_name": "Python 3"
    }
  },
  "cells": [
    {
      "cell_type": "markdown",
      "metadata": {
        "id": "CAuRhoZqHKMb",
        "colab_type": "text"
      },
      "source": [
        "## **Functions**"
      ]
    },
    {
      "cell_type": "code",
      "metadata": {
        "id": "LQdieVeJ7lr9",
        "colab_type": "code",
        "colab": {}
      },
      "source": [
        "import random\n",
        "import time\n",
        "\n",
        "def create_list(size):\n",
        "  new_list = []\n",
        "\n",
        "  for i in range(size):\n",
        "    new_list.append(random.randint(300, 1231))\n",
        "\n",
        "  return new_list\n",
        "\n",
        "def check_time(function):\n",
        "  start = time.time()\n",
        "  function()\n",
        "  elapsed_time = time.time() - start\n",
        "\n",
        "  return elapsed_time\n",
        "\n",
        "def get_name_from_value(dic, value):\n",
        "  name = list(dic.keys())[list(times.values()).index(value)]\n",
        "  return name\n",
        "\n",
        "def print_list(title, lista):\n",
        "  print(\"\\nlista {}:\".format(title))\n",
        "  print(lista)\n",
        "  print(\"\")\n",
        "\n",
        "def bubble_sort(list_to_sort):\n",
        "  for i in range(len(list_to_sort)):\n",
        "    for j in range (0, len(list_to_sort) - i -1):\n",
        "      if list_to_sort [j]> list_to_sort[j + 1]:\n",
        "        list_to_sort[j], list_to_sort[j + 1] = list_to_sort[j + 1], list_to_sort[j]\n",
        "\n",
        "  return list_to_sort\n",
        "\n",
        "def insertion_sort(list_to_sort):\n",
        "  for i in range(1, len(list_to_sort)):\n",
        "    current_value = list_to_sort[i]\n",
        "    current_position = i\n",
        "\n",
        "    while current_position > 0 and list_to_sort[current_position - 1] > current_value:\n",
        "      list_to_sort[current_position] = list_to_sort[current_position - 1]\n",
        "      current_position -= 1\n",
        "\n",
        "    list_to_sort[current_position] = current_value\n",
        "\n",
        "  return list_to_sort\n",
        "\n",
        "def mix_sort(list_to_sort):\n",
        "  if len(list_to_sort) > 1:\n",
        "    middle = len(list_to_sort) // 2\n",
        "    left = list_to_sort[:middle]\n",
        "    right = list_to_sort[middle:]\n",
        "\n",
        "    left = mix_sort(left)\n",
        "    right = mix_sort(right)\n",
        "\n",
        "    i = 0\n",
        "    j = 0\n",
        "    k = 0\n",
        "\n",
        "    while i< len(left) and j < len(right):\n",
        "      if left[i] < right[j]:\n",
        "        list_to_sort[k] = left[i]\n",
        "        i += 1\n",
        "      else:\n",
        "        list_to_sort[k] = right[j]\n",
        "        j += 1\n",
        "      k+= 1\n",
        "\n",
        "    while i < len(left):\n",
        "      list_to_sort[k] = left[i]\n",
        "      i+=1\n",
        "      k += 1\n",
        "\n",
        "    while j < len(right):\n",
        "      list_to_sort[k] = right[j]\n",
        "      j += 1\n",
        "      k += 1\n",
        "      \n",
        "  return list_to_sort"
      ],
      "execution_count": 60,
      "outputs": []
    },
    {
      "cell_type": "markdown",
      "metadata": {
        "id": "bLAvIwMUI7vb",
        "colab_type": "text"
      },
      "source": [
        "## **Messages**"
      ]
    },
    {
      "cell_type": "markdown",
      "metadata": {
        "id": "dLDS27qYLHAe",
        "colab_type": "text"
      },
      "source": [
        "### Punto 1"
      ]
    },
    {
      "cell_type": "code",
      "metadata": {
        "id": "s7tXNaVWJAHW",
        "colab_type": "code",
        "colab": {}
      },
      "source": [
        "SIZE_QUESTION = \"Ingrese el tamaño de la lista: \"\n",
        "TIMES_MESSAGE = \"El método de {} tomó {}s\"\n",
        "FINAL_MESSAGE = \"El método más efectivo fue el de {} con un tiempo de {}s\"\n",
        "SORTED = \"ordenada\"\n",
        "UNSORTED = \"desordenada\"\n",
        "BUBBLE = \"burbuja\"\n",
        "INSERTION = \"inserción\" \n",
        "MIX = \"mezcla\""
      ],
      "execution_count": 65,
      "outputs": []
    },
    {
      "cell_type": "markdown",
      "metadata": {
        "id": "Fi9iWdHpLPUU",
        "colab_type": "text"
      },
      "source": [
        "### Punto 2"
      ]
    },
    {
      "cell_type": "code",
      "metadata": {
        "id": "RipR1ewdLRha",
        "colab_type": "code",
        "colab": {}
      },
      "source": [
        "NEWS_URL = \"https://noticias.caracoltv.com/\"\n",
        "PARSER = \"html.parser\"\n",
        "SELECT_CLASS = \".PromoB-title a\"\n",
        "FILE_NAME = \"noticiasCaracol.csv\"\n",
        "EMPTY = \"\"\n",
        "HREF = \"href\"\n",
        "NEWS = \"Noticias\"\n",
        "LINKS = \"Links\"\n",
        "NO_TITLE = \"Sin Título\""
      ],
      "execution_count": 64,
      "outputs": []
    },
    {
      "cell_type": "markdown",
      "metadata": {
        "id": "jvORm-jS7WYG",
        "colab_type": "text"
      },
      "source": [
        "## **Code**"
      ]
    },
    {
      "cell_type": "markdown",
      "metadata": {
        "id": "00Zn71RGHlfI",
        "colab_type": "text"
      },
      "source": [
        "### Punto 1"
      ]
    },
    {
      "cell_type": "code",
      "metadata": {
        "id": "dWnL8Knl7R8g",
        "colab_type": "code",
        "colab": {
          "base_uri": "https://localhost:8080/",
          "height": 258
        },
        "outputId": "46e12a7d-736a-4543-c63e-daa9cadca5c0"
      },
      "source": [
        "list_size = int(input(SIZE_QUESTION))\n",
        "lista = create_list(list_size)\n",
        "\n",
        "times = {}\n",
        "\n",
        "times[BUBBLE] = check_time(lambda: bubble_sort(lista))\n",
        "times[INSERTION] = check_time(lambda: insertion_sort(lista))\n",
        "times[MIX] = check_time(lambda: mix_sort(lista))\n",
        "\n",
        "print_list(UNSORTED, lista)\n",
        "\n",
        "for item in times:\n",
        "  print(TIMES_MESSAGE.format(item, times[item]))\n",
        "\n",
        "most_effective_name = get_name_from_value(times, min(times.values()))\n",
        "most_effective_time = min(times.values())\n",
        "\n",
        "if (most_effective_name == INSERTION):\n",
        "  sorted_list = insertion_sort(lista)\n",
        "\n",
        "elif (most_effective_name == BUBBLE):\n",
        "  sorted_list = bubble_sort(lista)\n",
        "\n",
        "else:\n",
        "  sorted_list = mix_sort(lista)\n",
        "\n",
        "print_list(SORTED, sorted_list)\n",
        "\n",
        "print(FINAL_MESSAGE.format(most_effective_name, most_effective_time))"
      ],
      "execution_count": 66,
      "outputs": [
        {
          "output_type": "stream",
          "text": [
            "Ingrese el tamaño de la lista: 54\n",
            "\n",
            "lista desordenada:\n",
            "[312, 349, 354, 358, 372, 372, 425, 436, 479, 485, 502, 503, 529, 556, 559, 559, 581, 638, 655, 679, 685, 695, 708, 716, 768, 777, 782, 796, 810, 851, 854, 860, 864, 865, 898, 898, 911, 973, 985, 1044, 1047, 1050, 1074, 1084, 1124, 1124, 1137, 1152, 1168, 1182, 1184, 1205, 1214, 1218]\n",
            "\n",
            "El método de burbuja tomó 0.00019121170043945312s\n",
            "El método de inserción tomó 9.5367431640625e-06s\n",
            "El método de mezcla tomó 0.00014209747314453125s\n",
            "\n",
            "lista ordenada:\n",
            "[312, 349, 354, 358, 372, 372, 425, 436, 479, 485, 502, 503, 529, 556, 559, 559, 581, 638, 655, 679, 685, 695, 708, 716, 768, 777, 782, 796, 810, 851, 854, 860, 864, 865, 898, 898, 911, 973, 985, 1044, 1047, 1050, 1074, 1084, 1124, 1124, 1137, 1152, 1168, 1182, 1184, 1205, 1214, 1218]\n",
            "\n",
            "El método más efectivo fue el de inserción con un tiempo de 9.5367431640625e-06s\n"
          ],
          "name": "stdout"
        }
      ]
    },
    {
      "cell_type": "markdown",
      "metadata": {
        "id": "vKfat3BZHqEt",
        "colab_type": "text"
      },
      "source": [
        "### punto 2"
      ]
    },
    {
      "cell_type": "code",
      "metadata": {
        "id": "bVhhzTFPAyL6",
        "colab_type": "code",
        "colab": {}
      },
      "source": [
        "import requests\n",
        "import pandas\n",
        "import bs4\n",
        "\n",
        "response = requests.get(NEWS_URL)\n",
        "\n",
        "soup = bs4.BeautifulSoup(response.text, PARSER)\n",
        "news = soup.select(SELECT_CLASS)\n",
        "\n",
        "noticias = []\n",
        "links=[]\n",
        "\n",
        "for item in news:\n",
        "    if item.text == EMPTY:\n",
        "      noticias.append(NO_TITLE)\n",
        "    else:\n",
        "      noticias.append(item.text)\n",
        "      \n",
        "    links.append(item.get(HREF))\n",
        "\n",
        "news_dic = {}\n",
        "news_dic[NEWS]= noticias\n",
        "news_dic[LINKS]= links\n",
        "\n",
        "news_dataframe = pandas.DataFrame(news_dic)\n",
        "news_dataframe.to_csv(FILE_NAME, index = False)"
      ],
      "execution_count": 71,
      "outputs": []
    }
  ]
}